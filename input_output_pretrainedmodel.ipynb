{
  "nbformat": 4,
  "nbformat_minor": 0,
  "metadata": {
    "accelerator": "GPU",
    "colab": {
      "name": "Untitled12.ipynb",
      "provenance": []
    },
    "kernelspec": {
      "display_name": "Python 3",
      "name": "python3"
    },
    "language_info": {
      "name": "python"
    }
  },
  "cells": [
    {
      "cell_type": "code",
      "metadata": {
        "colab": {
          "base_uri": "https://localhost:8080/"
        },
        "id": "m8NZCW1ifSxE",
        "outputId": "5901252a-2a6f-481b-aee9-33875127448e"
      },
      "source": [
        "import torch\n",
        "!pip install hydra-core\n",
        "!pip install omegaconf\n",
        "!pip install sacremoses\n",
        "! pip install fastBPE\n",
        "# Load an En-De Transformer model trained on WMT'19 data:\n"
      ],
      "execution_count": null,
      "outputs": [
        {
          "output_type": "stream",
          "text": [
            "Requirement already satisfied: hydra-core in /usr/local/lib/python3.7/dist-packages (1.0.6)\n",
            "Requirement already satisfied: antlr4-python3-runtime==4.8 in /usr/local/lib/python3.7/dist-packages (from hydra-core) (4.8)\n",
            "Requirement already satisfied: omegaconf<2.1,>=2.0.5 in /usr/local/lib/python3.7/dist-packages (from hydra-core) (2.0.6)\n",
            "Requirement already satisfied: importlib-resources; python_version < \"3.9\" in /usr/local/lib/python3.7/dist-packages (from hydra-core) (5.1.3)\n",
            "Requirement already satisfied: typing-extensions in /usr/local/lib/python3.7/dist-packages (from omegaconf<2.1,>=2.0.5->hydra-core) (3.7.4.3)\n",
            "Requirement already satisfied: PyYAML>=5.1.* in /usr/local/lib/python3.7/dist-packages (from omegaconf<2.1,>=2.0.5->hydra-core) (5.4.1)\n",
            "Requirement already satisfied: zipp>=0.4; python_version < \"3.8\" in /usr/local/lib/python3.7/dist-packages (from importlib-resources; python_version < \"3.9\"->hydra-core) (3.4.1)\n",
            "Requirement already satisfied: omegaconf in /usr/local/lib/python3.7/dist-packages (2.0.6)\n",
            "Requirement already satisfied: PyYAML>=5.1.* in /usr/local/lib/python3.7/dist-packages (from omegaconf) (5.4.1)\n",
            "Requirement already satisfied: typing-extensions in /usr/local/lib/python3.7/dist-packages (from omegaconf) (3.7.4.3)\n",
            "Requirement already satisfied: sacremoses in /usr/local/lib/python3.7/dist-packages (0.0.45)\n",
            "Requirement already satisfied: regex in /usr/local/lib/python3.7/dist-packages (from sacremoses) (2019.12.20)\n",
            "Requirement already satisfied: six in /usr/local/lib/python3.7/dist-packages (from sacremoses) (1.15.0)\n",
            "Requirement already satisfied: click in /usr/local/lib/python3.7/dist-packages (from sacremoses) (7.1.2)\n",
            "Requirement already satisfied: tqdm in /usr/local/lib/python3.7/dist-packages (from sacremoses) (4.41.1)\n",
            "Requirement already satisfied: joblib in /usr/local/lib/python3.7/dist-packages (from sacremoses) (1.0.1)\n",
            "Requirement already satisfied: fastBPE in /usr/local/lib/python3.7/dist-packages (0.1.0)\n"
          ],
          "name": "stdout"
        }
      ]
    },
    {
      "cell_type": "code",
      "metadata": {
        "id": "wQLFNYPVUIFL",
        "colab": {
          "base_uri": "https://localhost:8080/"
        },
        "outputId": "8f18b3f6-9fc2-4c3d-a884-9806e85b79cc"
      },
      "source": [
        "#!pip install subword-nmt\n",
        "en2fr = torch.hub.load('pytorch/fairseq', 'transformer.wmt14.en-fr', tokenizer='moses', bpe='subword_nmt')\n",
        "\n"
      ],
      "execution_count": 10,
      "outputs": [
        {
          "output_type": "stream",
          "text": [
            "Using cache found in /root/.cache/torch/hub/pytorch_fairseq_master\n"
          ],
          "name": "stderr"
        }
      ]
    },
    {
      "cell_type": "code",
      "metadata": {
        "id": "EnjwDNwyUJ4G",
        "colab": {
          "base_uri": "https://localhost:8080/"
        },
        "outputId": "653bc3e8-62be-4574-fbb9-997c93cc31ef"
      },
      "source": [
        "en2de = torch.hub.load('pytorch/fairseq', 'transformer.wmt19.en-de.single_model', tokenizer='moses', bpe='fastbpe')\n"
      ],
      "execution_count": 11,
      "outputs": [
        {
          "output_type": "stream",
          "text": [
            "Using cache found in /root/.cache/torch/hub/pytorch_fairseq_master\n"
          ],
          "name": "stderr"
        }
      ]
    },
    {
      "cell_type": "code",
      "metadata": {
        "id": "62EOrasxULgt",
        "colab": {
          "base_uri": "https://localhost:8080/"
        },
        "outputId": "b0c2c8f2-a620-4c8c-c15a-a7d11b197774"
      },
      "source": [
        "de2en = torch.hub.load('pytorch/fairseq', 'transformer.wmt19.de-en.single_model', tokenizer='moses', bpe='fastbpe')\n",
        "\n",
        "# Access the underlying TransformerModel\n",
        "\n",
        "# Translate from En-De\n",
        "fr = en2fr.translate('I had a great experience with a Moroccan client.', beam=5)\n",
        "\n",
        "print(\"***********\")\n",
        "print(\"***********\")\n",
        "\n",
        "print(\"***********\")\n",
        "\n",
        "print(\"***********\")\n",
        "\n",
        "print(\"***********\")\n",
        "\n",
        "de = en2de.translate('I had a great experience with a Moroccan client.')\n",
        "print(\"***************Translation from Neural Machine Translation Model***************\")\n",
        "print(\"Input English sentence: \", 'I had a great experience with a Moroccan client.')\n",
        "\n",
        "print(\"German Translation: \", de)\n",
        "en = de2en.translate(de)\n",
        "print(\"German to English Translation  \", en)\n",
        "print(\"English to French Translation: \", fr)"
      ],
      "execution_count": 12,
      "outputs": [
        {
          "output_type": "stream",
          "text": [
            "Using cache found in /root/.cache/torch/hub/pytorch_fairseq_master\n",
            "100%|██████████| 2992273886/2992273886 [01:00<00:00, 49137040.50B/s]\n"
          ],
          "name": "stderr"
        },
        {
          "output_type": "stream",
          "text": [
            "***********\n",
            "***********\n",
            "***********\n",
            "***********\n",
            "***********\n",
            "***************Translation from Neural Machine Translation Model***************\n",
            "Input English sentence:  I had a great experience with a Moroccan client.\n",
            "German Translation:  Ich hatte eine großartige Erfahrung mit einem marokkanischen Kunden.\n",
            "German to English Translation   I had a great experience with a Moroccan client.\n",
            "English to French Translation:  J'ai eu une excellente expérience avec un client marocain.\n"
          ],
          "name": "stdout"
        }
      ]
    }
  ]
}